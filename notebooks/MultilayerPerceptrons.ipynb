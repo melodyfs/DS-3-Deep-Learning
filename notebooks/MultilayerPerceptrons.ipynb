{
 "cells": [
  {
   "cell_type": "markdown",
   "metadata": {},
   "source": [
    "<center><img src='img/ms_logo.jpeg' height=60% width = 60%></center>\n",
    "\n",
    "<center><h1>Multilayer Perceptrons</h1></center>\n",
    "\n",
    "So far in this course, we've learned about Single Layers Perceptrons--the precursors to modern neural networks.  We've also learned about the activation functions used in neural networks, and the symbolic relationship they have with neurons in a brain. In this lesson, we'll put it all together and create a **_Multilayer Perceptron_** that uses multiple layers of neurons.  We'll use it to classify different types of clothing from the _Zalando Fashion Dataset_, a more complex dataset used for benchmarking and practice, in the same way that MNIST is used.  To build it, we'll use the [**_Keras_**](https://keras.io/) library--in industry-standard tool used by Deep Learning practicioners to quickly create Deep Neural Network prototypes.  Keras gives us all the power of Google's [**_TensorFlow_**](https://www.tensorflow.org/) framework, but with a clean, easy-to-use API that abstracts away all the boilerplate code needed to get TensorFlow working.\n",
    "\n",
    "<center><h2>Why We Need Multiple Layers in our Perceptrons</h2></center>\n",
    "\n",
    "Recall the structure of the Single-Layer Perceptron we built in unit 1:\n",
    "\n",
    "<center><img src='img/SLP_diagram.png' height=80% width=80%></center>\n",
    "\n",
    "This perceptron generally worked, but wasn't too effective at learning--with only one layer, it's just too simple to learn complex nonlinear functions.  Multilayer perceptrons solve this problem by stacking at least 3 layers of neurons together. At minimum, a Multilayer Perceptron must consist of:\n",
    "\n",
    "1. An Input Layer\n",
    "1. 1 or more **_'Hidden' Layers_**\n",
    "1. An Output Layer\n",
    "\n",
    "The hidden layer(s) are the 'secret sauce' that makes modern Deep Neural Networks so effective.  We'll discuss what they do, why they are considered 'hidden', and how they fit into modern Deep Neural Networks further along in this assignment.  Before we get to that, let's explore the history (and drama) that took us from Single-Layer Perceptrons to the powerful modern Neural Networks we use nowadays.\n",
    "\n",
    "\n",
    "<center><h3>Some History on Perceptrons (Nerd Drama Ahead!)</h3></center>\n",
    "\n",
    "We can stack them and have them work together to generate an overall prediction--but this comes with it's own problem.  Let's say we have the following neural network:\n",
    "\n",
    "<center><img src='img/mlp-network.png' height=80% width=80%></center>\n",
    "\n",
    "For the following analogy, it's helpful to think of each neuron as a person giving advice to the people in the following layer.  The people in the first layer take a look at the inputs, and (based on their weights from the previous layer, plus a bias), pass along their advice to each person in the next layer, who repeat this process until it gets to the person at the very end.  Based on the advice he received from the previous layer, who based their advice on the information they received from the previos layey (and so on and so on), the person makes a decision, which turns out to be wrong.  \n",
    "\n",
    "This leads us to a really tough question--**_how do we divide up the \"blame\" for this mistake?_** \n",
    "\n",
    "Let's think about all the ways this group of people (or neurons) could have gotten this wrong. What if everybody's weights and biases were wrong (meaning everyone gave bad advice)? Or, what if some people have perfected exactly how much weight they should give the inputs they receive, but the inputs themselves were bad? What if every neuron was perfect, but one was way off?  How would you even know which one? If we knew who to blame, and how much to blame them, we could shift their weights accordingly and let everyone \"learn\" from each mistake in the training data--but this wasn't possible, because we hadn't yet figured out how to tell who we should blame for a mistake (which weights we should adjust), and how much we should blame them (which would tell us how to adjust the weights accordingly).\n",
    "\n",
    "This was the central problem with neural networks, and the central insight behind the **_back propagation alogrithm_** (backprop for short) that powers the learning in modern neural networks. Although there were many pieces of the backprop algorithm invented as far back as 1960, no one really fully put all the pieces together until 1986, when Geoffrey Hinton, David Rummelhart, and Ronald J. Williams put all the pieces together and came up with the generalized backpropagation algorithm.  \n",
    "\n",
    "It should be noted that until backprop was invented, no one really realized just how powerful Neural Networks could be. Although people were very excited about Rosenblatt's invention of the SLP in 1957, this excitement died down in 1969 when Marvin Minsky published the book _Perceptrons_, which made strong claims that Perceptrons were only good for toy problems.  He showed proofs that a SLP can't solve the [XOR problem](https://www.quora.com/What-is-XOR-problem-in-neural-networks).  Once Hinton and team discovered backprop and compputers continued to get more and more powerful, that set the stage for the amazing Deep Learning explosion that we see today!\n",
    "\n",
    "\n",
    "<center><h2>Nuts and Bolts: Forward Prop and Back Prop</h2></center>\n",
    "\n",
    "When we train a neural network, what is actually happening? This can be summarized as two main steps:\n",
    "\n",
    "1. **_Forward Propagation_**\n",
    "2. **_Back Propagation_**\n",
    "\n",
    "Neural networks learn from training data in a similar way that we learn from doing practice problems and then checking to see if we got the answer correct.  First, we figure out an answer, and then we double check the answer to see if we got it right or wrong.  If we got it right, great--we understand how to solve that problem.  Don't change anything.  But when we get it wrong, we go back and figure out how we got it wrong, and shift our thinking.  This is generally what neural networks are doing. \n",
    "\n",
    "Before we build a working MLP in Keras, let's take a quick look at what happens during the forward prop and back prop steps for each data point in the training set. \n",
    "\n",
    "<center><h3>Forward Propagation</h3></center>\n",
    "\n",
    "Each feature for a row of data is passed in to a different neuron in the **_input layer_**.  If our dataset has 20 columns (often referred to as \"dimensions\"), then each column will be passed into a separate column meant just for it.  This data will then feed to every neuron in the first hidden layer.  Each neuron will then compute the weighted sum of the inputs it receives (which is just the [dot product](https://mathinsight.org/dot_product_examples) of the inputs and weights), plus a bias.  The neuron then passes this weighted sum through an activation function, which we learned in the last notebook lets our networks capture nonlinearity.  The number that the activation function spits out is the output of this neuron, which is also the input that will be passed on to all neurons in the next layer.  This pattern continues, passing information from **_hidden layer_** to hidden layer until the information reaches the **_output layer_**.  This output of the output layer is the prediction that the neural network has made for the data passed to it as input.  \n",
    "\n",
    "<center><h3>Back Propagation</h3></center>\n",
    "\n",
    "\n",
    "**_Loss:_**\n",
    "Since this is an instance of data from our training set, that means we have a label to check to see if the prediction made during the forward propagation step was correct.  To check our performance, we'll use a **_Loss Function_**.  You've already run across these when learning about things like regression--for example, the Sum of Squared Errors is a loss function.  The goal of the neural network during training is to shift the weights in a way that will minimize this loss function.  When it gets an a prediction correct, the loss will be 0.  This is a good thing, because if we got something correct, there's no reason to change the weights/biases around--this could do more harm than good!  However, when the network gets a prediction wrong, things get interesting.  Did it predict 0 when the label was 1, or 1 when the label was 0?  When learning from mistakes, how the network got something wrong is just as important as recognizing the mistake at all.  A clever loss function will tell us this. There are many clever loss functions in deep learning, but they are all generally some form of $y - \\hat{y}$, where $y$ is the actual label, and $\\hat{y}$ is the prediction made during the forward prop step.\n",
    "\n",
    "**_Gradient Descent_**\n",
    "\n",
    "If we output from our loss function, we can take the derivative of this loss function. If we have the derivative of this loss function, we can shift the weights up or down and see which direction decreases our loss.  If we have enough training data, and we shift the weights incrementally in a direction that decreases the loss every time we make a mistake, eventually we'll arrive at optimal values for each weight.  In layman's terms, our network will have \"learned\" the weights that will cause it to get the most predictions correct.  For an example, see the following diagram.\n",
    "\n",
    "<center><img src='img/gradient_descent.png' height=60% width=60%></center>\n",
    "\n",
    "**_Back Propagating the Error_**\n",
    "If our neuron only had one weight, gradient descent would be easy--we just shift the value for that weight in the correct direction every time until we have a gradient of 0. However, we have many different neurons in our network. What do we do? If you're familiar with calculus, you've probably heard of the **_Chain Rule_**. Our derivative of our loss function is decomposable.  After all, our loss comes from the output layer, but the input to that output layer was other functions, which also had inputs that were the outputs of other functions, all the way back to the beginning.  We can trace this chain backwards, taking the derivative at every step to propagate the error backwards and tell each neuron how to shift it's own weights, all the way back to the beginning! When we put all of this together, this is how we solve the blame assignment problem, which allows us to build very deep networks that can still assign \"blame\" appropriately and learn the correct weights with enough training data!\n",
    "\n",
    "\n",
    "(A quick note--you may be wondering where the initial values for the weights and biases for each neuron come from, before the first forward prop step on the first data point.  The simple answer is that they are just random values.  this is okay, because the network will \"learn\" the correct weights during the backprop step described below!)\n",
    "\n",
    "Phew--that was a lot to cover! Enough talk--let's use **_Keras_** to build our very own MLP for classifying pictures of articles of clothing from the **_Zalando Fashion MNIST dataset_**!"
   ]
  },
  {
   "cell_type": "markdown",
   "metadata": {},
   "source": [
    "**Run the following block of code to import everything we'll need for our MLP.**"
   ]
  },
  {
   "cell_type": "code",
   "execution_count": null,
   "metadata": {},
   "outputs": [],
   "source": [
    "import keras\n",
    "from keras.models import Sequential\n",
    "from keras.layers import Dense\n",
    "from keras.datasets import fashion_mnist\n",
    "import matplotlib.pyplot as plt\n",
    "import numpy as np\n",
    "%matplotlib inline"
   ]
  },
  {
   "cell_type": "markdown",
   "metadata": {},
   "source": [
    "### Keras module explanations\n",
    "\n",
    "Let's take a look at the things we've imported directly from Keras, to get a better idea of what they are and how we'll use them.  \n",
    "```python\n",
    "from keras.models import Sequential\n",
    "```\n",
    "For most anything you'll be doing in Keras, you'll likely be using a Sequential model.  This is the actual model object that we'll create in our code, and then manipulate by adding layers.  \n",
    "```python\n",
    "from keras.layers import Dense\n",
    "```\n",
    "There are many different types of layers we can use inside our neural network.  The most simple one we can use a **_Dense_** layer.  You may have also heard this referred to as a **_Fully-Connected_** layer, meaning that each neuron in the layer receives the output from every single neuron in the previous layer, and passes its output to every neuron in the next layer.  The layers submodule also contains some other nifty tools, such as Dropout and BatchNormalization.  Although these aren't strictly necessary for building a Deep Neural Netowrk, they're very helpful for dealing with common problems such as overfitting! In this tutorial, we'll use them just to add some variety to our programming task--don't worry if you don't understand these concepts yet, as we'll cover them soon!\n",
    "\n",
    "```python\n",
    "from keras.datasets import fashion_mnist\n",
    "```\n",
    "\n",
    "This line just reads in an object that will import the fashion mnist dataset for us.  This is purely just to save us the time of having to import it all manually. \n",
    "\n",
    "Finally, we import two familiar libaries: `matplotlib` so we can visualize what some of our data looks like, and `numpy` for use in during our data preprocessing steps. \n",
    "\n",
    "**Run the cells below to impor the data and visualize an example from our data set. **"
   ]
  },
  {
   "cell_type": "code",
   "execution_count": null,
   "metadata": {},
   "outputs": [],
   "source": [
    "(X_train, y_train), (X_test, y_test) = fashion_mnist.load_data()"
   ]
  },
  {
   "cell_type": "code",
   "execution_count": null,
   "metadata": {},
   "outputs": [],
   "source": [
    "plt.imshow(X_train[0])\n",
    "print(\"label for image: {}\".format(y_train[0]))"
   ]
  },
  {
   "cell_type": "markdown",
   "metadata": {},
   "source": [
    "<center>Looking at the table below, we can see that this image is classified as an \"ankle boot\".  </center>\n",
    "\n",
    "\n",
    "| Label | Description |\n",
    "|-------|-------------|\n",
    "| 0     | T-shirt/top |\n",
    "| 1     | Trouser     |\n",
    "| 2     | Pullover    |\n",
    "| 3     | Dress       |\n",
    "| 4     | Coat        |\n",
    "| 5     | Sandal      |\n",
    "| 6     | Shirt       |\n",
    "| 7     | Sneaker     |\n",
    "| 8     | Bag         |\n",
    "| 9     | Ankle Boot  |\n",
    "\n",
    "<center>Next, we'll run through some common steps for preprocessing our data.</center>\n",
    "\n",
    "**Run the cell below to see the shape of X_train and X_test.**"
   ]
  },
  {
   "cell_type": "code",
   "execution_count": null,
   "metadata": {},
   "outputs": [],
   "source": [
    "print(\"Shape of X_train: {}\".format(X_train.shape))\n",
    "print(\"Shape of X_test: {}\".format(X_test.shape))"
   ]
  },
  {
   "cell_type": "markdown",
   "metadata": {},
   "source": [
    "<center><h3>Data Preprocessing</h3></center>\n",
    "\n",
    "In order to prepare our data for use in our MLP, we'll need to do a couple things first:\n",
    "\n",
    "**1.  _Reshape each image into vectors of pixel values._**  \n",
    "    \n",
    "Currently, each image is a 28 x 28 matrix of pixel values.  We need to reshape this into a **_vector_** (a 1d array).  Numpy can help us with this. Right now, `X_train` is a **_Tensor_** of 60,000 28 x 28 matrices.  We need to turn this into a tensor of 60,000 784 x 1 vectors (28 x 28 is 784).  During this process,we'll also leverage the power of numpy to make sure that every single data point is the correct data type--inthis case, a `float32`.  \n",
    "\n",
    "To reshape X_train, use the following command from numpy:\n",
    "    \n",
    "```python\n",
    "X_train = X_train.reshape(60000, 784).astype('float32')\n",
    "```\n",
    "\n",
    "<em>**You'll also need to reshape X\\_test--remember that X\\_test only contains 10000 rows, not 60000!**</em>"
   ]
  },
  {
   "cell_type": "code",
   "execution_count": null,
   "metadata": {},
   "outputs": [],
   "source": [
    "X_train = None\n",
    "X_test = None"
   ]
  },
  {
   "cell_type": "markdown",
   "metadata": {},
   "source": [
    "Great! This brings us to Step 2:\n",
    "\n",
    "**_ 2. Normalize the data._**  \n",
    "\n",
    "By normalizing our input data, this will allow the neural network to converge on the correct answers much more quickly.  In DS2, you learned that normalizing a value means subtracting the mean of the feature and then dividing by the standard deviation--however, since we're working with image data, there's a quick shortcut we can use.  Since each data point is a pixel value, this means that each data point can only have a value between 0 and 255. \n",
    "\n",
    "To normalize our image data, we'll just divide every point by 255! Example follows:\n",
    "\n",
    "```python\n",
    "X_train /= 255.\n",
    "```\n",
    "\n",
    "<em>**Divide X_train and X_test by 255.**</em>"
   ]
  },
  {
   "cell_type": "code",
   "execution_count": null,
   "metadata": {},
   "outputs": [],
   "source": [
    "X_train /= None\n",
    "X_test /= None"
   ]
  },
  {
   "cell_type": "markdown",
   "metadata": {},
   "source": [
    "Now for our final preprocessing step:\n",
    "\n",
    "**_3. Convert labels to one-hot encoding_**\n",
    "\n",
    "As we saw when we looked at the example from our training set above, the label was just the integer `9`.  Since this is a multiclass classification problem with 10 classes, that means our output layer will contain 10 neurons, with the activation function for the output layer being softmax.  That means that we need to conver the labels to vectors of the same length to make computing our loss easier.  In each vector, every value will be a 0, except for the index that corresponds to the correct class for the label.  \n",
    "\n",
    "Current label format:\n",
    "`9`\n",
    "\n",
    "One-hot label format: \n",
    "`[0, 0, 0, 0, 0, 0, 0, 0, 0, 1]`\n",
    "\n",
    "Luckily, this is a common task, so _Keras_ includes utility functions that handle this for us. The code snippet below shows an example of how to use this:\n",
    "\n",
    "```python\n",
    "y_train = keras.utils.to_categorical(y_train, 10)\n",
    "```\n",
    "\n",
    "<em>**Use the function shown above to convert the labels contained in y_train and y_test to one-hot vectors.**</em>"
   ]
  },
  {
   "cell_type": "code",
   "execution_count": null,
   "metadata": {},
   "outputs": [],
   "source": [
    "y_train = None\n",
    "y_test = None"
   ]
  },
  {
   "cell_type": "markdown",
   "metadata": {},
   "source": [
    "<center><h2>Building our MultiLayer Perceptron</h2></center>\n",
    "\n",
    "Finally, we can build our first MLP.  Lets think about the architecture for this MLP:\n",
    "\n",
    "1. Our input layer needs to have 784 neurons--1 for each pixel value in our input vector.\n",
    "1. The MLP should contain at least 1 hidden layer.  Each layer should contain at least $\\sqrt{input\\ size}$ number of neurons.  It can be larger than this number, but if it's smaller than this number there's a solid chance it isn't big enough to adequately fit the data.  \n",
    "1. The output layer should have the same number of neurons as the total number of classes in the dataset.  \n",
    "\n",
    "We should also give some thought to which activation functions we'll use here.  Should we use **_sigmoid_**, **_tanh_**, or **_relu_**?  For our output layer, no decision needed--this is a multiclass classification problem, so we have to use **_softmax_** on the output layer.  \n",
    "\n",
    "**_That's alot of decisions to make!_** If you feel overwhelmed by trying to figure out exactly what the shape of your neural network should be, don't worry--that's normal.  These are **_hyperparameters_**, and there's no clear-cut rules for which ones you should choose.  This part takes a lot of experimentation. For now, let's start with a basic layout and modify as needed based on it's performance.  \n",
    "\n",
    "\n",
    "\n",
    "To create a neural network in Keras, we'll start by instantiating a `Sequential()` object, and then add each successive layer using the  object's `.add()` method. The code in the following cell creates a very basic MLP.  This network won't perform too well on the data, but don't worry about that just yet--we're only going to use it as a reference for how to write code with Keras. "
   ]
  },
  {
   "cell_type": "code",
   "execution_count": null,
   "metadata": {},
   "outputs": [],
   "source": [
    "poor_model = Sequential()\n",
    "poor_model.add(Dense(25, activation='sigmoid', input_shape=(784,)))\n",
    "poor_model.add(Dense(10, activation='softmax'))"
   ]
  },
  {
   "cell_type": "markdown",
   "metadata": {},
   "source": [
    "Once we've created the model, we still have to have keras compile it.  Run the following code to compile and inspect the network. "
   ]
  },
  {
   "cell_type": "code",
   "execution_count": null,
   "metadata": {},
   "outputs": [],
   "source": [
    "poor_model.compile(loss='categorical_crossentropy', optimizer='SGD', metrics=['accuracy'])\n",
    "poor_model.summary()"
   ]
  },
  {
   "cell_type": "markdown",
   "metadata": {},
   "source": [
    "Calling `.summary()` on a compiled model will give us a print out of each layer in the network, and tell us how many trainable parameters are contained in each layer, as well as in the model as a whole.  **_Trainable Parameters_** are any values that the model will learn through training--all the weights and biases that will start off as random values, each slowly moving towards its own optimal value with each mistake in training.  \n",
    "\n",
    "The network above is a pitifully small model for the problem at hand, and it still has **_19,885 trainable parameters!_**  The more neurons in a model, the more parameters it will have.  Larger models may be able to capture more complexity and do better on harder tasks, but with each additional parameter, the amount of time and training data needed to properly train the model goes up! This is the essential reason why we can't just throw bigger and bigger networks at problems and solve every problem in the world--it's also why Deep Learning took a decade or two to really start getting impressive results, even though back prop was figured out in 1986.  Computers then weren't powerful enough to train MLPs large enough to solve interesting problems--after a couple of iterations of [Moore's Law](https://www.investopedia.com/terms/m/mooreslaw.asp), computers became powerful enough that this was no longer a problem!\n",
    "\n",
    "**_Fitting the Model_**\n",
    "\n",
    "Like any machine learning algorithm, building the model isn't enough--we need to fit it to the training data.  Run the cell below to fit the model.  Pay attention to the output--what does the `loss` value do over time? What does the `accuracy` value do over time?  We also pass it our testing data to do validation at the end of each epoch--is there a disparity between the accuracy and validation accuracy? What might this mean?"
   ]
  },
  {
   "cell_type": "code",
   "execution_count": null,
   "metadata": {},
   "outputs": [],
   "source": [
    "poor_model.fit(X_train, y_train, batch_size=64, epochs=10, verbose=1, validation_data=(X_test, y_test))"
   ]
  },
  {
   "cell_type": "markdown",
   "metadata": {},
   "source": [
    "**_Fitting the Model: Vocabulary_**\n",
    "\n",
    "`batch_size=64`: The number of examples the model trains on before updating the weights.  A batch_size of 1 would mean that the model looks at every individual example, computes the loss, and updates the weights.  In the example above, the model works through training data in groups of 64, keeping a running total of how the parameters need to be updated, and then updates them at the end of every batch.  (Pro-tip: You'll usually get better runtime performance if your batch size is a power of 2.)\n",
    "\n",
    "`epoch=10`: The number of times the model trains on the entire training set. 1 full pass through the training data is 1 epoch.  In the code above, we went through the training data 10 full times. \n",
    "\n",
    "`verbose=1`: Tells Keras to give us more output rather than less during the training stage.  \n",
    "\n",
    "`validation_data=(X_test, y_test)`: This part is optional.  We pass it the validation data to have it check it's work against the test set at the end of every epoch.  During this step, it computes the forward prop step to make predictions on each data point in the test set, and computes the `loss` and `accuracy` based on the labels contained within `y_test`, but it does not update the weights.  This is strictly to tell us how we're doing. Validation metrics are more accurate than training metrics, because training metrics might be artifically high because of overfitting.  \n",
    "\n",
    "<center><h2>Building Your Own MLP</h2></center>\n",
    "\n",
    "Our example network wasn't very effective, but that's okay--the goal was only to give you some example code to help you get comfortable with the way things are done in Keras.  Next, you'll build your MLP with a more complex architecture and see how it improves on the poor example above!\n",
    "\n",
    "**_Build a network with the following architecture:_**\n",
    "\n",
    "1. An input layer of 784 neurons. \n",
    "1. A Dense layer of 128 neurons--sigmoid activation.\n",
    "1. A Dense layer of 64 neurons--sigmoid activation.\n",
    "1. A Dense layer of 10 neurons--softmax activation (this is our output layer)\n",
    "\n",
    "Use the example above to help you figure out the necessary syntax for building this model.  Make sure to add the layers in the order that you want them--the order that you add them will be the order that they appear in the final model!"
   ]
  },
  {
   "cell_type": "code",
   "execution_count": null,
   "metadata": {},
   "outputs": [],
   "source": [
    "good_model = None"
   ]
  },
  {
   "cell_type": "markdown",
   "metadata": {},
   "source": [
    "<center><h2>Stretch Challenge: Tune Your Hyperparameters!</h2></center>\n",
    "\n",
    "Congratulations--you've built your own working MultiLayer Perceptron using Keras! For those that are looking for an additional challenge, try tuning your hyperparameters and comparing your results! Keep track of how each does, and see if you can get a feel for what makes the model perform better, and what makes it perform worse.  \n",
    "\n",
    "Consider playing around with the following hyperparamters\n",
    "\n",
    "1. Activation Functions--which gives the best results?\n",
    "1. Depth--how does additional additional layer(s) change the performance of the model? Is there a point of **_diminishing returns_**, where the performance doesn't really increase but the runtime does?\n",
    "1. Layer width--how does changing the number of neurons in a layer affect the performance of the model?\n",
    "1. Optimizer--try other [optimizers available in Keras](https://keras.io/optimizers/)--for instance, `\"adam\"` or `\"rmsprop\"`.\n",
    "\n",
    "Keep track of your results, and be scientific in your experimentation! Make small changes one at a time, and keep track of what happens each time.  If you make too many changes at once, you won't know how to **_assign blame!_** (See what I did there? Thats a backprop joke.  Admit it.  That was clever.)"
   ]
  }
 ],
 "metadata": {
  "anaconda-cloud": {},
  "kernelspec": {
   "display_name": "Python 3",
   "language": "python",
   "name": "python3"
  },
  "language_info": {
   "codemirror_mode": {
    "name": "ipython",
    "version": 3
   },
   "file_extension": ".py",
   "mimetype": "text/x-python",
   "name": "python",
   "nbconvert_exporter": "python",
   "pygments_lexer": "ipython3",
   "version": "3.6.3"
  }
 },
 "nbformat": 4,
 "nbformat_minor": 2
}
